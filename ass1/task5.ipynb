{
 "cells": [
  {
   "cell_type": "code",
   "execution_count": 1,
   "metadata": {},
   "outputs": [],
   "source": [
    "import numpy as np\n",
    "import math\n",
    "from tqdm import tqdm"
   ]
  },
  {
   "cell_type": "markdown",
   "metadata": {},
   "source": [
    "Define state space $\\mathcal{S}$."
   ]
  },
  {
   "cell_type": "code",
   "execution_count": 2,
   "metadata": {},
   "outputs": [
    {
     "data": {
      "text/plain": [
       "array([ 0,  1,  2,  3,  4,  5,  6,  7,  8,  9, 10, 11, 12, 13, 14, 15, 16,\n",
       "       17, 18, 19, 20, 21, 22, 23, 24, 25, 26, 27, 28, 29, 30, 31, 32, 33,\n",
       "       34, 35, 36, 37, 38, 39, 40, 41, 42, 43, 44, 45, 46, 47, 48, 49, 50])"
      ]
     },
     "execution_count": 2,
     "metadata": {},
     "output_type": "execute_result"
    }
   ],
   "source": [
    "states = np.array([\n",
    "    i for i in range(51)\n",
    "])\n",
    "states"
   ]
  },
  {
   "cell_type": "markdown",
   "metadata": {},
   "source": [
    "Define action space, $\\mathcal{A}$."
   ]
  },
  {
   "cell_type": "code",
   "execution_count": 3,
   "metadata": {},
   "outputs": [],
   "source": [
    "actions = [0,1] \n",
    "actions_dict = {\n",
    "    0: \"do nothing\",\n",
    "    1: \"do maintenance\"\n",
    "}"
   ]
  },
  {
   "cell_type": "markdown",
   "metadata": {},
   "source": [
    "Create state-action cost matrix $\\mathcal{C}^{(a)}_{(T,d)}$."
   ]
  },
  {
   "cell_type": "code",
   "execution_count": 4,
   "metadata": {},
   "outputs": [
    {
     "name": "stdout",
     "output_type": "stream",
     "text": [
      "[0. 1.] [0. 1.] [0. 1.] [0. 1.] [0. 1.] [0. 1.] [0. 1.] [0. 1.] [0. 1.] [0. 1.] [0. 1.] [0. 1.] [0. 1.] [0. 1.] [0. 1.] [0. 1.] [0. 1.] [0. 1.] [0. 1.] [0. 1.] [0. 1.] [0. 1.] [0. 1.] [0. 1.] [0. 1.] [0. 1.] [0. 1.] [0. 1.] [0. 1.] [0. 1.] [0. 1.] [0. 1.] [0. 1.] [0. 1.] [0. 1.] [0. 1.] [0. 1.] [0. 1.] [0. 1.] [0. 1.] [0. 1.] [0. 1.] [0. 1.] [0. 1.] [0. 1.] [0. 1.] [0. 1.] [0. 1.] [0. 1.] [0. 1.] [inf  5.]\n"
     ]
    }
   ],
   "source": [
    "C = np.array([[0, 1]] * 50 + [[np.inf, 5]])\n",
    "print(*C)"
   ]
  },
  {
   "cell_type": "markdown",
   "metadata": {},
   "source": [
    "Get transition probability matrix under action 0; $\\mathcal{P}^0$."
   ]
  },
  {
   "cell_type": "code",
   "execution_count": 5,
   "metadata": {},
   "outputs": [],
   "source": [
    "def get_zero_prob(pi,lambda_):\n",
    "    \"\"\"\n",
    "    Returns the probability of a zero-inflated Poisson random variable being equal\n",
    "    to zero: P(P_t+1 = 0). Here pi represents the probability of getting P_t+1 = 0\n",
    "    deterministically, and (1-pi) represents of drawing from a Poisson distribution.\n",
    "    \"\"\"\n",
    "    return pi + (1-pi)*np.exp(-lambda_)\n",
    "\n",
    "def get_y_prob(pi,lambda_,y):\n",
    "    \"\"\"\n",
    "    Returns the probability of a zero-inflated Poisson random variable being equal\n",
    "    to y: P(P_t+1 = y).\n",
    "    \"\"\"\n",
    "    return (1-pi) * ((pow(lambda_,y)*np.exp(-lambda_)) / math.factorial(y))\n",
    "\n",
    "def get_geq_prob(pi,lambda_,k):\n",
    "    \"\"\"\n",
    "    Returns the probability of a zero-inflated Poisson random variable being\n",
    "    greater than or equal to k: P(P_t+1 >= k) = 1 - P(P_t+1 < k), where\n",
    "    k = xi_T - d_t.\n",
    "    \"\"\"\n",
    "    if k == 0:\n",
    "        return 1.0\n",
    "    # prob_less_than_k = sum(get_y_prob(pi,lambda_,i) for i in range(0,k))\n",
    "    prob_less_than_k = get_zero_prob(pi,lambda_) + sum(get_y_prob(pi,lambda_,i) for i in range(1,k))\n",
    "    return 1 - prob_less_than_k\n",
    "\n",
    "pi_zero_infl = 1/2\n",
    "lambda_zero_infl = 4\n",
    "\n",
    "def transition_prob0(d1,d2):\n",
    "    if d2<d1 or d1==50:\n",
    "        return 0\n",
    "\n",
    "    if d1==d2:\n",
    "        return get_zero_prob(pi_zero_infl, lambda_zero_infl)\n",
    "\n",
    "    elif 0<=d1<15:\n",
    "        if d2 < 15:\n",
    "            return get_y_prob(pi_zero_infl, lambda_zero_infl, d2 - d1)\n",
    "        elif 15 <=d2<30:\n",
    "            return (2/3) * get_y_prob(pi_zero_infl, lambda_zero_infl, d2 - d1)\n",
    "        elif 30 <=d2<50:\n",
    "            return (1/3) * get_y_prob(pi_zero_infl, lambda_zero_infl, d2 - d1)\n",
    "        elif d2 == 50: # d2 == FAIL\n",
    "            return (1/3) * sum(\n",
    "                get_geq_prob(pi_zero_infl, lambda_zero_infl, xi - d1)\n",
    "                for xi in [15,30,50])\n",
    "        else:\n",
    "            print(f'ERROR: {d1} -> {d2}')\n",
    "\n",
    "    elif 15<=d1<30:\n",
    "        if d2<30:\n",
    "            return get_y_prob(pi_zero_infl, lambda_zero_infl, d2 - d1)\n",
    "        elif 30<=d2<50:\n",
    "            return (1/2) * get_y_prob(pi_zero_infl, lambda_zero_infl, d2 - d1)\n",
    "        elif d2==50: # d2 == FAIL\n",
    "            return (1/2) * sum(\n",
    "                get_geq_prob(pi_zero_infl, lambda_zero_infl, xi - d1)\n",
    "                for xi in [30,50])\n",
    "        else:\n",
    "            print(f'ERROR: {d1} -> {d2}')\n",
    "\n",
    "    elif 30<=d1<50:\n",
    "        if d2<50:\n",
    "            return get_y_prob(pi_zero_infl, lambda_zero_infl, d2 - d1)\n",
    "        elif d2==50: # d2 == FAIL\n",
    "            return get_geq_prob(pi_zero_infl, lambda_zero_infl, 50 - d1)\n",
    "        else:\n",
    "            print(f'ERROR: {d1} -> {d2}')\n",
    "    else:\n",
    "        print(f'ERROR: {d1} -> {d2}')\n",
    "\n",
    "P_0 = np.array([\n",
    "    [transition_prob0(d1,d2) for d2 in states]\n",
    "    for d1 in states\n",
    "], dtype=object)\n",
    "\n",
    "# check if all rows sum to 1 (ignoring floating-point precision erros)\n",
    "for i,row in enumerate(P_0):\n",
    "    assert round(sum(row),5) == 1 or round(sum(row),8) == 0, (i, sum(row))"
   ]
  },
  {
   "cell_type": "markdown",
   "metadata": {},
   "source": [
    "Get transition probability matrix under action 1; $\\mathcal{P}^1$."
   ]
  },
  {
   "cell_type": "code",
   "execution_count": 6,
   "metadata": {},
   "outputs": [],
   "source": [
    "P_1 = np.array([\n",
    "    [1 if d2==0 else 0 for d2 in states]\n",
    "    for d1 in states\n",
    "], dtype=object)\n",
    "\n",
    "for row in P_1:\n",
    "    assert sum(row)==1, sum(row)"
   ]
  },
  {
   "cell_type": "markdown",
   "metadata": {},
   "source": [
    "Create transition prob dictionary"
   ]
  },
  {
   "cell_type": "code",
   "execution_count": 7,
   "metadata": {},
   "outputs": [],
   "source": [
    "P_dict = {0:P_0, 1:P_1}"
   ]
  },
  {
   "cell_type": "code",
   "execution_count": 8,
   "metadata": {},
   "outputs": [
    {
     "name": "stderr",
     "output_type": "stream",
     "text": [
      "  2%|▏         | 159/10000 [00:00<00:27, 356.75it/s]"
     ]
    },
    {
     "name": "stdout",
     "output_type": "stream",
     "text": [
      "\n",
      "Optimal Values:\n",
      " [1.16226628 1.22052201 1.28177294 1.34630807 1.4142663  1.48527291\n",
      " 1.55842103 1.63349543 1.71363126 1.80708448 1.92349987 2.04603965\n",
      " 2.04603965 2.04603965 2.04603965 1.21690055 1.27795068 1.3423972\n",
      " 1.41044488 1.48149434 1.55391433 1.6267197  1.70408456 1.80023093\n",
      " 1.93784989 2.04603965 2.04603965 2.04603965 2.04603965 2.04603965\n",
      " 1.01770801 1.06878492 1.12238623 1.178589   1.23756514 1.29970122\n",
      " 1.36557247 1.43531197 1.5075404  1.57919392 1.64890766 1.72546144\n",
      " 1.83765966 2.03608906 2.04603965 2.04603965 2.04603965 2.04603965\n",
      " 2.04603965 2.04603965 6.04603965]\n",
      "\n",
      "Optimal Policy:\n",
      " [0 0 0 0 0 0 0 0 0 0 0 1 1 1 1 0 0 0 0 0 0 0 0 0 0 1 1 1 1 1 0 0 0 0 0 0 0\n",
      " 0 0 0 0 0 0 0 1 1 1 1 1 1 1]\n"
     ]
    },
    {
     "name": "stderr",
     "output_type": "stream",
     "text": [
      "\n"
     ]
    }
   ],
   "source": [
    "gamma = 0.9\n",
    "e = pow(10,-8)\n",
    "max_iter = pow(10,4)\n",
    "V = np.zeros(len(states))\n",
    "pi = np.full(len(states),None)\n",
    "\n",
    "for _ in tqdm(range(max_iter)):\n",
    "    V_new = np.copy(V)\n",
    "    max_diff = 0\n",
    "    \n",
    "    for s in states:\n",
    "        value_function = []\n",
    "        for a in actions:\n",
    "            val = C[s][a] + gamma * np.dot(P_dict[a][s],V)#np.dot(probs[s, :, a], V)\n",
    "            value_function.append(val)\n",
    "\n",
    "        V_new[s] = min(value_function)\n",
    "        pi[s] = np.argmin(value_function)\n",
    "        max_diff = max(max_diff, abs(V_new[s] - V[s]))\n",
    "    \n",
    "    V = V_new\n",
    "    if max_diff < e:\n",
    "        break\n",
    "\n",
    "print(\"\\nOptimal Values:\\n\", V)\n",
    "print(\"\\nOptimal Policy:\\n\", pi)"
   ]
  }
 ],
 "metadata": {
  "kernelspec": {
   "display_name": "base",
   "language": "python",
   "name": "python3"
  },
  "language_info": {
   "codemirror_mode": {
    "name": "ipython",
    "version": 3
   },
   "file_extension": ".py",
   "mimetype": "text/x-python",
   "name": "python",
   "nbconvert_exporter": "python",
   "pygments_lexer": "ipython3",
   "version": "3.12.4"
  }
 },
 "nbformat": 4,
 "nbformat_minor": 2
}
