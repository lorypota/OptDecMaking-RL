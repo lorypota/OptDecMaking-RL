{
 "cells": [
  {
   "cell_type": "code",
   "execution_count": 3,
   "metadata": {},
   "outputs": [],
   "source": [
    "import numpy as np\n",
    "from tqdm import tqdm\n",
    "import random\n",
    "import math\n",
    "from numba import njit"
   ]
  },
  {
   "cell_type": "markdown",
   "metadata": {},
   "source": [
    "Get all states"
   ]
  },
  {
   "cell_type": "code",
   "execution_count": 4,
   "metadata": {},
   "outputs": [
    {
     "name": "stdout",
     "output_type": "stream",
     "text": [
      "There are 98 states in our MDP.\n"
     ]
    }
   ],
   "source": [
    "states = [\n",
    "    (i+1,d)\n",
    "    for i,t in enumerate([15,30,50])\n",
    "        for d in range(t+1)\n",
    "]\n",
    "\n",
    "id_to_state = {i:s for i,s in enumerate(states)}\n",
    "state_to_id = {s:i for i,s in id_to_state.items()}\n",
    "print(f\"There are {len(states)} states in our MDP.\")"
   ]
  },
  {
   "cell_type": "markdown",
   "metadata": {},
   "source": [
    "Get cost vector $\\mathcal{C}_\\pi$, whose $i$'th component is given by $\\mathcal{C}_\\pi(s_i) = c(s_i,\\pi(s_i))$, which represents the immediate cost of taking the policy’s chosen action in state $s_i$."
   ]
  },
  {
   "cell_type": "code",
   "execution_count": 5,
   "metadata": {},
   "outputs": [
    {
     "data": {
      "text/plain": [
       "array([0., 0., 0., 0., 0., 0., 0., 0., 0., 0., 0., 0., 0., 0., 0., 5., 0.,\n",
       "       0., 0., 0., 0., 0., 0., 0., 0., 0., 0., 0., 0., 0., 0., 0., 0., 0.,\n",
       "       0., 0., 0., 0., 0., 0., 0., 0., 0., 0., 0., 0., 5., 0., 0., 0., 0.,\n",
       "       0., 0., 0., 0., 0., 0., 0., 0., 0., 0., 0., 0., 0., 0., 0., 0., 0.,\n",
       "       0., 0., 0., 0., 0., 0., 0., 0., 0., 0., 0., 0., 0., 0., 0., 0., 0.,\n",
       "       0., 0., 0., 0., 0., 0., 0., 0., 0., 0., 0., 0., 5.])"
      ]
     },
     "execution_count": 5,
     "metadata": {},
     "output_type": "execute_result"
    }
   ],
   "source": [
    "thresholds = {1:15,2:30,3:50}\n",
    "\n",
    "C_pi = np.array([\n",
    "    5 if d == thresholds[T]\n",
    "      else 0\n",
    "    for (T, d) in states\n",
    "], dtype=float)\n",
    "\n",
    "C_pi"
   ]
  },
  {
   "cell_type": "markdown",
   "metadata": {},
   "source": [
    "Compute transition probability matrix $\\mathcal{P}_\\pi$."
   ]
  },
  {
   "cell_type": "code",
   "execution_count": 14,
   "metadata": {},
   "outputs": [
    {
     "name": "stdout",
     "output_type": "stream",
     "text": [
      "[[0.50915782 0.03663128 0.07326256 ... 0.         0.         0.        ]\n",
      " [0.         0.50915782 0.03663128 ... 0.         0.         0.        ]\n",
      " [0.         0.         0.50915782 ... 0.         0.         0.        ]\n",
      " ...\n",
      " [0.         0.         0.         ... 0.50915782 0.03663128 0.4542109 ]\n",
      " [0.         0.         0.         ... 0.         0.50915782 0.49084218]\n",
      " [0.33333333 0.         0.         ... 0.         0.         0.        ]]\n"
     ]
    }
   ],
   "source": [
    "def get_zero_prob(pi,lambda_):\n",
    "    \"\"\"\n",
    "    Returns the probability of a zero-inflated Poisson random variable being equal\n",
    "    to zero: P(P_t+1 = 0). Here pi represents the probability of getting P_t+1 = 0\n",
    "    deterministically, and (1-pi) represents of drawing from a Poisson distribution.\n",
    "    \"\"\"\n",
    "    return pi + (1-pi)*np.exp(-lambda_)\n",
    "\n",
    "def get_y_prob(pi,lambda_,y):\n",
    "    \"\"\"\n",
    "    Returns the probability of a zero-inflated Poisson random variable being equal\n",
    "    to y: P(P_t+1 = y).\n",
    "    \"\"\"\n",
    "    return (1-pi) * ((pow(lambda_,y)*np.exp(-lambda_)) / math.factorial(y))\n",
    "\n",
    "def get_geq_prob(pi,lambda_,k):\n",
    "    \"\"\"\n",
    "    Returns the probability of a zero-inflated Poisson random variable being\n",
    "    greater than or equal to k: P(P_t+1 >= k) = 1 - P(P_t+1 < k), where\n",
    "    k = xi_T - d_t.\n",
    "    \"\"\"\n",
    "    if k == 0:\n",
    "        return 1.0\n",
    "    # prob_less_than_k = sum(get_y_prob(pi,lambda_,i) for i in range(0,k))\n",
    "    prob_less_than_k = get_zero_prob(pi,lambda_) + sum(get_y_prob(pi,lambda_,i) for i in range(1,k))\n",
    "    return 1 - prob_less_than_k\n",
    "\n",
    "pi_zero_infl = 1/2\n",
    "lambda_zero_infl = 4\n",
    "\n",
    "P = []\n",
    "for s1 in states:\n",
    "    p_row = []\n",
    "    for s2 in states:\n",
    "        T1,d1 = s1\n",
    "        T2,d2 = s2\n",
    "        \n",
    "        xiT1 = thresholds[T1]\n",
    "\n",
    "        # do nothing action\n",
    "        if d1 < xiT1:\n",
    "            # impossible cases have probability 0\n",
    "            if T1!=T2 or d2<d1:\n",
    "                p = 0\n",
    "\n",
    "            # probability of staying in the same state\n",
    "            elif d1 == d2:\n",
    "                p = get_zero_prob(pi_zero_infl,lambda_zero_infl)\n",
    "\n",
    "            # probability of going to an increased state\n",
    "            elif d2 < xiT1: # d1 < d2 < xiT1 (bc we already compared d1 == d2 it is d1<d2)\n",
    "                p = get_y_prob(pi_zero_infl,lambda_zero_infl,d2-d1)\n",
    "\n",
    "            # probability of going to the threshold state\n",
    "            elif d2 == xiT1:\n",
    "                p = get_geq_prob(pi_zero_infl,lambda_zero_infl,xiT1-d1)\n",
    "            \n",
    "            else:\n",
    "                print(f'ERROR {s1=} -> {s2=}')\n",
    "\n",
    "        # do maintenance action\n",
    "        else:\n",
    "            if d1==xiT1 and d2==0:\n",
    "                p = 1/3\n",
    "            else:\n",
    "                p = 0\n",
    "        \n",
    "\n",
    "        p_row.append(p)\n",
    "    P.append(p_row)\n",
    "    \n",
    "P_pi = np.array(P)\n",
    "\n",
    "for row in P_pi:\n",
    "    assert round(sum(row),8)==1, sum(row)\n",
    "\n",
    "print(P_pi)"
   ]
  },
  {
   "cell_type": "markdown",
   "metadata": {},
   "source": [
    "Solve the system using $V_\\pi = (I-\\gamma \\mathcal{P}_\\pi)\\mathcal{C}_\\pi$."
   ]
  },
  {
   "cell_type": "code",
   "execution_count": null,
   "metadata": {},
   "outputs": [
    {
     "name": "stdout",
     "output_type": "stream",
     "text": [
      "v((1, 0)) = 2.7747484135746316\n"
     ]
    }
   ],
   "source": [
    "I = np.eye(len(states))\n",
    "gamma = 0.9\n",
    "\n",
    "v_pi = np.linalg.solve(I - gamma*P_pi, C_pi)\n",
    "\n",
    "# print(\"Computed value function:\")\n",
    "for s,v in zip(states,v_pi):\n",
    "    print(f\"v({tuple(s)}) = {v}\")\n",
    "    break"
   ]
  },
  {
   "cell_type": "markdown",
   "metadata": {},
   "source": [
    "### Task 2.1"
   ]
  },
  {
   "cell_type": "markdown",
   "metadata": {},
   "source": [
    "Single episode"
   ]
  },
  {
   "cell_type": "code",
   "execution_count": null,
   "metadata": {},
   "outputs": [
    {
     "name": "stdout",
     "output_type": "stream",
     "text": [
      "Estimated v_pi((1,0)) = 0.9283768415268873\n"
     ]
    }
   ],
   "source": [
    "n = pow(10,5)\n",
    "\n",
    "nr_states = len(P_pi)\n",
    "sim = np.zeros(n+1, dtype = int)\n",
    "s0 = state_to_id[(1,0)]\n",
    "sim[0] = s0\n",
    "\n",
    "for i in range(1, n):\n",
    "    next_state = random.choices(range(nr_states), weights=P_pi[sim[i-1]], k=1)\n",
    "    sim[i] = next_state[0]\n",
    "\n",
    "discounts = gamma ** np.arange(n+1)  # vector of discount factors: 1, gamma, gamma^2, ...\n",
    "G = np.sum(discounts * C_pi[sim])\n",
    "print(\"Estimated v_pi((1,0)) =\", G)"
   ]
  },
  {
   "cell_type": "markdown",
   "metadata": {},
   "source": [
    "```num_episodes``` episodes"
   ]
  },
  {
   "cell_type": "code",
   "execution_count": null,
   "metadata": {},
   "outputs": [],
   "source": [
    "@njit\n",
    "def create_cdfs(P_pi):\n",
    "    \"\"\"\n",
    "    Precompute the per-state cumulative distribution function.\n",
    "    P_pi is assumed to be shape (nr_states, nr_states).\n",
    "    \"\"\"\n",
    "    nr_states = P_pi.shape[0]\n",
    "    P_cdf = np.empty_like(P_pi)\n",
    "    for s in range(nr_states):\n",
    "        # compute cumulative sum for row s\n",
    "        cdf_row = 0.0\n",
    "        for sp in range(nr_states):\n",
    "            cdf_row += P_pi[s, sp]\n",
    "            P_cdf[s, sp] = cdf_row\n",
    "    return P_cdf\n",
    "\n",
    "@njit\n",
    "def simulate_episode_cdf(s0, P_cdf, C_pi, discounts, n):\n",
    "    \"\"\"\n",
    "    Simulate one episode of length n starting at state s0 using\n",
    "    the precomputed CDF matrix P_cdf. Then compute the\n",
    "    discounted return from cost vector C_pi.\n",
    "    \"\"\"\n",
    "    sim = np.empty(n, dtype=np.int64)\n",
    "    sim[0] = s0\n",
    "    # generate all random numbers needed at once\n",
    "    us = np.random.rand(n - 1)\n",
    "    for t in range(1, n):\n",
    "        # next state from P_cdf of the current state\n",
    "        sim[t] = np.searchsorted(P_cdf[sim[t - 1]], us[t - 1])\n",
    "    return np.sum(discounts * C_pi[sim])\n",
    "\n",
    "def monte_carlo_mdp_fast(\n",
    "    P_pi, \n",
    "    C_pi, \n",
    "    state_to_id, \n",
    "    n=100_000, \n",
    "    num_episodes=100, \n",
    "    gamma=0.9\n",
    "):\n",
    "    s0 = state_to_id[(1,0)]  # example start\n",
    "    nr_states = len(P_pi)\n",
    "\n",
    "    # Precompute\n",
    "    P_cdf = create_cdfs(P_pi)  # shape (nr_states, nr_states)\n",
    "    discounts = gamma ** np.arange(n)\n",
    "\n",
    "    returns = np.empty(num_episodes)\n",
    "    for i in tqdm(range(num_episodes)):\n",
    "        G = simulate_episode_cdf(s0, P_cdf, C_pi, discounts, n)\n",
    "        returns[i] = G\n",
    "\n",
    "    return returns.mean(),returns"
   ]
  },
  {
   "cell_type": "code",
   "execution_count": null,
   "metadata": {},
   "outputs": [
    {
     "name": "stderr",
     "output_type": "stream",
     "text": [
      "100%|██████████| 100/100 [00:00<00:00, 1549.42it/s]"
     ]
    },
    {
     "name": "stdout",
     "output_type": "stream",
     "text": [
      "Estimated v_pi((1,0)) over 100 episodes of length 10000  = 2.8541\n"
     ]
    },
    {
     "name": "stderr",
     "output_type": "stream",
     "text": [
      "\n"
     ]
    }
   ],
   "source": [
    "gamma = 0.9\n",
    "n = 10_000\n",
    "num_episodes = 100\n",
    "\n",
    "v1_0_estimate100,sample100 = monte_carlo_mdp_fast(P_pi, C_pi, state_to_id,n=n,num_episodes=num_episodes)\n",
    "\n",
    "print(f\"Estimated v_pi((1,0)) over {num_episodes} episodes of length {n}  = {v1_0_estimate100:.4f}\")"
   ]
  },
  {
   "cell_type": "markdown",
   "metadata": {},
   "source": [
    "> Estimated v_pi((1,0)) over 100 episodes of length 10000  = 2.8541"
   ]
  },
  {
   "cell_type": "code",
   "execution_count": null,
   "metadata": {},
   "outputs": [
    {
     "name": "stderr",
     "output_type": "stream",
     "text": [
      "100%|██████████| 1000/1000 [00:00<00:00, 1484.67it/s]"
     ]
    },
    {
     "name": "stdout",
     "output_type": "stream",
     "text": [
      "Estimated v_pi((1,0)) over 1000 episodes of length 10000  = 2.7224\n"
     ]
    },
    {
     "name": "stderr",
     "output_type": "stream",
     "text": [
      "\n"
     ]
    }
   ],
   "source": [
    "gamma = 0.9\n",
    "n = 10_000\n",
    "num_episodes = 1_000\n",
    "\n",
    "v1_0_estimate1k,sample1k = monte_carlo_mdp_fast(P_pi, C_pi, state_to_id,n=n,num_episodes=num_episodes)\n",
    "\n",
    "print(f\"Estimated v_pi((1,0)) over {num_episodes} episodes of length {n}  = {v1_0_estimate1k:.4f}\")"
   ]
  },
  {
   "cell_type": "markdown",
   "metadata": {},
   "source": [
    ">Estimated v_pi((1,0)) over 1000 episodes of length 10000  = 2.7224"
   ]
  },
  {
   "cell_type": "code",
   "execution_count": null,
   "metadata": {},
   "outputs": [
    {
     "name": "stderr",
     "output_type": "stream",
     "text": [
      "100%|██████████| 10000/10000 [00:06<00:00, 1531.69it/s]"
     ]
    },
    {
     "name": "stdout",
     "output_type": "stream",
     "text": [
      "Estimated v_pi((1,0)) over 10000 episodes of length 10000  = 2.7742\n"
     ]
    },
    {
     "name": "stderr",
     "output_type": "stream",
     "text": [
      "\n"
     ]
    }
   ],
   "source": [
    "gamma = 0.9\n",
    "n = 10_000\n",
    "num_episodes = 10_000\n",
    "\n",
    "v1_0_estimate10k,sample10k = monte_carlo_mdp_fast(P_pi, C_pi, state_to_id,n=n,num_episodes=num_episodes)\n",
    "\n",
    "print(f\"Estimated v_pi((1,0)) over {num_episodes} episodes of length {n}  = {v1_0_estimate10k:.4f}\")"
   ]
  },
  {
   "cell_type": "markdown",
   "metadata": {},
   "source": [
    ">Estimated v_pi((1,0)) over 10000 episodes of length 10000  = 2.7742"
   ]
  },
  {
   "cell_type": "markdown",
   "metadata": {},
   "source": [
    "#### Confidence Interval"
   ]
  },
  {
   "cell_type": "code",
   "execution_count": null,
   "metadata": {},
   "outputs": [],
   "source": [
    "def get_sample_variance(sample):\n",
    "    n = len(sample)\n",
    "    avg = np.mean(sample)\n",
    "    return (1/n) * sum((sample-avg)**2)\n",
    "\n",
    "S2_100 = 1.157914873493865 #get_sample_variance(sample100)\n",
    "S2_1k = 1.0486945991784795 #get_sample_variance(sample1k)\n",
    "S2_10k = 1.0677367537314746 #get_sample_variance(sample10k)"
   ]
  },
  {
   "cell_type": "code",
   "execution_count": null,
   "metadata": {},
   "outputs": [
    {
     "data": {
      "text/plain": [
       "(11120.614445035078, 10071.662930510116, 10254.543782837081)"
      ]
     },
     "execution_count": 79,
     "metadata": {},
     "output_type": "execute_result"
    }
   ],
   "source": [
    "(1.96*np.sqrt(S2_100)/0.02)**2,(1.96*np.sqrt(S2_1k)/0.02)**2,(1.96*np.sqrt(S2_10k)/0.02)**2"
   ]
  },
  {
   "cell_type": "code",
   "execution_count": null,
   "metadata": {},
   "outputs": [
    {
     "name": "stdout",
     "output_type": "stream",
     "text": [
      "95% CI for 100 episodes: (2.6431429297177553, 0.21090864795010258)\n",
      "half-width: 0.21090864795010258\n",
      "\n",
      "95% CI for 1k episodes: (2.65895850280091, 0.06347176673296598)\n",
      "half-width: 0.06347176673296598\n",
      "\n",
      "95% CI for 10k episodes: (2.753948487271288, 0.020252944262834558)\n",
      "half-width: 0.020252944262834558\n"
     ]
    }
   ],
   "source": [
    "def get_ci(estimate,z,S2,n):\n",
    "    half_width = z * (S2/n)**0.5\n",
    "    return (estimate - half_width, p+half_width)\n",
    "\n",
    "def get_half_width(z,S2,n):\n",
    "    return z * (S2/n)**0.5\n",
    "\n",
    "z = 1.96\n",
    "\n",
    "print(f\"95% CI for 100 episodes: {get_ci(v1_0_estimate100,z,S2_100,100)}\\nhalf-width: {get_half_width(z,S2_100,100)}\\n\")\n",
    "print(f\"95% CI for 1k episodes: {get_ci(v1_0_estimate1k,z,S2_1k,1000)}\\nhalf-width: {get_half_width(z,S2_1k,1_000)}\\n\")\n",
    "print(f\"95% CI for 10k episodes: {get_ci(v1_0_estimate10k,z,S2_10k,10_000)}\\nhalf-width: {get_half_width(z,S2_10k,10_000)}\")"
   ]
  },
  {
   "cell_type": "markdown",
   "metadata": {},
   "source": []
  },
  {
   "cell_type": "markdown",
   "metadata": {},
   "source": [
    "Other methods that were not used."
   ]
  },
  {
   "cell_type": "code",
   "execution_count": null,
   "metadata": {},
   "outputs": [],
   "source": [
    "# gamma = 0.9\n",
    "# results = []\n",
    "# for n,num_episodes in [(100_000,100),(100_000,500),(100_000,1_000),(100_000,10_000)]:\n",
    "#     v1_0_estimate = monte_carlo_mdp_fast(P_pi, C_pi, state_to_id,n=n,num_episodes=num_episodes)\n",
    "#     results.append((n,num_episodes,v1_0_estimate))\n",
    "#     print(f\"Estimated v_pi((1,0)) over {num_episodes} episodes of length {n}  = {v1_0_estimate:.4f}\")\n",
    "\n",
    "# for result in results:\n",
    "#     print(f\"Estimated v_pi((1,0)) over {num_episodes} episodes of length {n}  = {v1_0_estimate:.4f}\")"
   ]
  },
  {
   "cell_type": "code",
   "execution_count": null,
   "metadata": {},
   "outputs": [],
   "source": [
    "# def simple_monte_carlo_mdp( # VERY SLOW\n",
    "#         n = 100000,          # episode length\n",
    "#         num_episodes = 100,  # number of episodes to simulate\n",
    "#         gamma = 0.9):        # discount factor\n",
    "\n",
    "#     # s0 is the index corresponding to the first state, (1,0)\n",
    "#     s0 = state_to_id[(1,0)]\n",
    "#     nr_states = len(P_pi)\n",
    "\n",
    "#     # list to collect returns for each episode\n",
    "#     returns = []\n",
    "\n",
    "#     discounts = gamma ** np.arange(n)\n",
    "\n",
    "#     for episode in tqdm(range(num_episodes)):\n",
    "#         sim = np.empty(n, dtype=int)\n",
    "#         sim[0] = s0\n",
    "\n",
    "#         # simulate one episode of length n\n",
    "#         for t in range(1, n):\n",
    "#             # random.choices returns a list from which we take the first element.\n",
    "#             sim[t] = np.random.choice(\n",
    "#                         np.arange(nr_states),\n",
    "#                         p=P_pi[sim[t-1]])\n",
    "        \n",
    "#         # for each episode, we compute the discounted return:\n",
    "#         # G = sum_{t=0}^n gamma^t * immediate_cost(state_t)\n",
    "#         G = np.sum(discounts * C_pi[sim])\n",
    "#         returns.append(G)\n",
    "\n",
    "#     # finally, compute the average return over episodes\n",
    "#     average_return = np.mean(returns)\n",
    "#     return average_return"
   ]
  },
  {
   "cell_type": "code",
   "execution_count": null,
   "metadata": {},
   "outputs": [],
   "source": [
    "# def simulate_episode(P_pi, C_pi, initial_state, gamma, T):\n",
    "#     \"\"\"\n",
    "#     Simulate one episode of length T starting from initial_state.\n",
    "#     Returns the discounted sum of costs (the return).\n",
    "#     \"\"\"\n",
    "#     total_cost = 0.0\n",
    "#     current_state = initial_state\n",
    "#     for t in range(T):\n",
    "#         # Accumulate the cost at the current state, discounted by gamma^t.\n",
    "#         total_cost += (gamma ** t) * C_pi[current_state]\n",
    "#         # Transition to the next state based on the probabilities in row P_pi[current_state].\n",
    "#         current_state = np.random.choice(range(len(P_pi)), p=P_pi[current_state])\n",
    "#     return total_cost\n",
    "\n",
    "# # Simulation parameters\n",
    "# num_episodes = 50  # number of episodes to average over\n",
    "# T = 100000            # horizon length (should be long enough that further costs are negligible)\n",
    "# gamma = 0.9          # discount factor\n",
    "\n",
    "# # initial state: (1,0) is assumed to be mapped to its index in state_to_id\n",
    "# initial_state_index = state_to_id[(1, 0)]\n",
    "\n",
    "# # Run the simulation over many episodes and collect returns.\n",
    "# returns = []\n",
    "# for episode in tqdm(range(num_episodes)):\n",
    "#     G = simulate_episode(P_pi, C_pi, initial_state_index, gamma, T)\n",
    "#     returns.append(G)\n",
    "\n",
    "# # The estimate of v_pi((1,0)) is the average of the returns.\n",
    "# v_pi_estimate = np.mean(returns)\n",
    "# print(\"Estimated v_pi((1,0)) over\", num_episodes, \"episodes =\", v_pi_estimate)\n",
    "\n",
    "\n",
    "# >100%|██████████| 50/50 [05:24<00:00,  6.49s/it]<br>\n",
    "# >Estimated v_pi((1,0)) over 50 episodes = 2.73176094910046"
   ]
  }
 ],
 "metadata": {
  "kernelspec": {
   "display_name": "base",
   "language": "python",
   "name": "python3"
  },
  "language_info": {
   "codemirror_mode": {
    "name": "ipython",
    "version": 3
   },
   "file_extension": ".py",
   "mimetype": "text/x-python",
   "name": "python",
   "nbconvert_exporter": "python",
   "pygments_lexer": "ipython3",
   "version": "3.12.4"
  }
 },
 "nbformat": 4,
 "nbformat_minor": 2
}
