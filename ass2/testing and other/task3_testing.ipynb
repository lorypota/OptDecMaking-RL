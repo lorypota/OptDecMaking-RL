{
 "cells": [
  {
   "cell_type": "markdown",
   "metadata": {},
   "source": [
    "# Testing for Task 3"
   ]
  },
  {
   "cell_type": "code",
   "execution_count": 23,
   "metadata": {},
   "outputs": [],
   "source": [
    "import numpy as np\n",
    "from tqdm import tqdm \n",
    "import matplotlib.pyplot as plt\n",
    "import scipy.stats as stats\n",
    "import math"
   ]
  },
  {
   "cell_type": "markdown",
   "metadata": {},
   "source": [
    "## Q-Learning Implementation (without VFA)"
   ]
  },
  {
   "cell_type": "markdown",
   "metadata": {},
   "source": [
    "##### MDP Parameters"
   ]
  },
  {
   "cell_type": "code",
   "execution_count": 24,
   "metadata": {},
   "outputs": [],
   "source": [
    "# Define MDP parameters\n",
    "actions = (0, 1)  # (0=do nothing, 1=maintenance)\n",
    "xi = (15, 30, 50) # break threshold per type of component\n",
    "S = [list(range(x + 1)) for x in xi]\n",
    "C = tuple([[0, 1]] * x + [[math.inf, 5]] for x in xi)\n",
    "gamma = 0.9  # Discount factor"
   ]
  },
  {
   "cell_type": "markdown",
   "metadata": {},
   "source": [
    "##### Utility"
   ]
  },
  {
   "cell_type": "code",
   "execution_count": 25,
   "metadata": {},
   "outputs": [],
   "source": [
    "np.random.seed(0)\n",
    "\n",
    "def plot_td_errors(results, title=\"TD Error Convergence\"):\n",
    "    \"\"\"\n",
    "    Utility function to plot results (can be multiple)\n",
    "    \"\"\"\n",
    "    plt.figure(figsize=(12, 7))\n",
    "    for label, data in results.items():\n",
    "        plt.plot(data[\"td_errors\"], label=label)\n",
    "\n",
    "    plt.xlabel(\"Episode\")\n",
    "    plt.ylabel(\"Max TD Error\")\n",
    "    plt.title(title)\n",
    "    plt.legend()\n",
    "    plt.grid(True)\n",
    "    plt.tight_layout()\n",
    "    plt.show()\n",
    "    \n",
    "def print_policies_and_q_values(Q, label=None):\n",
    "    \"\"\"\n",
    "    Utility function to print policies and corresponding Q values (can be multiple)\n",
    "    \"\"\"\n",
    "    if label:\n",
    "        print(f\"===== Optimal Policy for {label} =====\")\n",
    "    print(\"Optimal Policy (0 = Do nothing, 1 = Maintenance):\")\n",
    "    for comp_type in range(len(xi)):\n",
    "        policy = np.argmax(Q[comp_type], axis=0)\n",
    "        policy[xi[comp_type]] = 1  # Force maintenance at threshold\n",
    "        print(f\"Component Type {comp_type + 1} (Failure Threshold = {xi[comp_type]}):\")\n",
    "        print(policy)\n",
    "\n",
    "    print(\"\\nQ-values for each Component Type:\")\n",
    "    for comp_type in range(len(xi)):\n",
    "        print(f\"Component Type {comp_type + 1} (Failure Threshold = {xi[comp_type]}):\")\n",
    "        print(Q[comp_type])"
   ]
  },
  {
   "cell_type": "markdown",
   "metadata": {},
   "source": [
    "##### Transition probabilities"
   ]
  },
  {
   "cell_type": "code",
   "execution_count": 26,
   "metadata": {},
   "outputs": [],
   "source": [
    "p_zero = 0.5  # 50% probability of zero inflation\n",
    "dist_name = 'poisson'  # Base distribution\n",
    "lambda_poisson = 4  # Poisson mean\n",
    "\n",
    "def zero_inflated_prob_vector(p_zero, dist_name, dist_params, s):\n",
    "    \"\"\"\n",
    "    Computes a probability vector for a zero-inflated random variable.\n",
    "\n",
    "    Parameters:\n",
    "    - p_zero (float): Probability of zero inflation.\n",
    "    - dist_name (str): Name of the base distribution ('poisson', 'nbinom', 'binom').\n",
    "    - dist_params (tuple): Parameters of the base distribution.\n",
    "    - s (int): Threshold for \"s or greater\" category.\n",
    "\n",
    "    Returns:\n",
    "    - np.array: Probability vector of length (s+1) where:\n",
    "        - First element: P(X=0)\n",
    "        - Second element: P(X=1)\n",
    "        - ...\n",
    "        - Second-to-last element: P(X=s-1)\n",
    "        - Last element: P(X >= s)=1-(P(X=0)+...+P(X=s-1))\n",
    "    \"\"\"\n",
    "    # Get the chosen probability mass function (PMF)\n",
    "    base_dist = getattr(stats, dist_name)\n",
    "\n",
    "    if s==0:\n",
    "        prob_vector = [p_zero]\n",
    "    else:\n",
    "        # Compute probabilities for values 0 to (s-1)\n",
    "        pmf_values = (1 - p_zero) * base_dist.pmf(np.arange(s), *dist_params)\n",
    "        \n",
    "        # Adjust probability of zero (includes zero-inflation)\n",
    "        pmf_values[0] += p_zero\n",
    "        \n",
    "        # Compute probability for X ≥ s\n",
    "        p_s_or_more = 1 - np.sum(pmf_values)\n",
    "        \n",
    "        # Append P(X >= s) as the last element\n",
    "        prob_vector = np.append(pmf_values, p_s_or_more)\n",
    "    \n",
    "    return prob_vector"
   ]
  },
  {
   "cell_type": "markdown",
   "metadata": {},
   "source": [
    "##### $\\epsilon$-greedy action determination"
   ]
  },
  {
   "cell_type": "code",
   "execution_count": 27,
   "metadata": {},
   "outputs": [],
   "source": [
    "def choose_action(Q, comp_type, s, xi, epsilon):\n",
    "    \"\"\"\n",
    "    Choose an action using an epsilon-greedy policy with a forced action at the threshold.\n",
    "\n",
    "    Parameters:\n",
    "     - Q         : Tuple of numpy arrays representing the Q-table for each component type.\n",
    "     - comp_type : Integer index indicating the component type.\n",
    "     - s         : Current state (an integer) for the selected component type.\n",
    "     - xi        : Tuple containing the failure threshold for each component type.\n",
    "     - epsilon   : Exploration probability.\n",
    "\n",
    "    Returns:\n",
    "     - a         : The chosen action (0 or 1). If s equals the threshold (xi[comp_type]), then returns 1.\n",
    "    \"\"\"\n",
    "    # If state equals the failure threshold, force the maintenance action.\n",
    "    if s == xi[comp_type]:\n",
    "        return 1\n",
    "\n",
    "    if np.random.random() < epsilon:\n",
    "        return np.random.randint(2)\n",
    "    else:\n",
    "        return np.argmax(Q[comp_type][:, s])"
   ]
  },
  {
   "cell_type": "markdown",
   "metadata": {},
   "source": [
    "##### Q-Learning"
   ]
  },
  {
   "cell_type": "code",
   "execution_count": 28,
   "metadata": {},
   "outputs": [],
   "source": [
    "def run_simulation(nEpisodes, lengthEpisode, initial_epsilon, initial_alpha, min_epsilon=0.01, decay_rate=5000, \n",
    "                   delta = 1e-5, patience=None):\n",
    "    #* Initialize Q(s, a), ∀ s ∈ S, a ∈ A(s), arbitrarily\n",
    "    Q = tuple(np.zeros((2, x + 1)) for x in xi)\n",
    "\n",
    "    # Initialize other things    \n",
    "    TD_errors = []\n",
    "    prev_policy = None\n",
    "    stable_count = 0\n",
    "\n",
    "    #* Repeat (for each episode):\n",
    "    for i in tqdm(range(nEpisodes), desc=\"Episodes\"):\n",
    "\n",
    "\n",
    "        # Decaying learning rate\n",
    "        alpha = initial_alpha / (1 + i / 1000)\n",
    "        epsilon = max(min_epsilon, initial_epsilon * np.exp(-i / decay_rate))\n",
    "\n",
    "        #* Initialize S\n",
    "        comp_type = np.random.randint(0, 3)\n",
    "        s = S[comp_type][0]\n",
    "                \n",
    "        # init max TD error\n",
    "        max_TD_error = 0\n",
    "        \n",
    "        #* For Repeat (for each step of episode):\n",
    "        for j in range(0, lengthEpisode):\n",
    "\n",
    "            #* Choose A from S using policy derived from Q using e-greedy\n",
    "            a = choose_action(Q, comp_type, s, xi, epsilon)\n",
    "\n",
    "            #* Take action A, observe S', comp_type'\n",
    "            if a == 0:\n",
    "                prob_vector = zero_inflated_prob_vector(p_zero, dist_name, (lambda_poisson,), xi[comp_type]-s)\n",
    "                increments = np.arange(len(prob_vector))\n",
    "                increment = np.random.choice(increments, p=prob_vector)\n",
    "                s_prime = s + increment\n",
    "                if s_prime > xi[comp_type]:\n",
    "                    s_prime = xi[comp_type]\n",
    "                comp_type_prime = comp_type\n",
    "            else:\n",
    "                s_prime = 0\n",
    "                comp_type_prime = np.random.randint(0, 3)\n",
    "            \n",
    "            #* Take action A, observe R\n",
    "            r = -C[comp_type][s][a]\n",
    "            \n",
    "            #* Q-Learning Update:\n",
    "            #* Q(S, A) <- Q(S, A) + α[R + γ*max_a{Q(S', a)} – Q(S, A)]\n",
    "            maxNextQ = np.max(Q[comp_type_prime][:,s_prime])\n",
    "            TD_error = r + gamma* maxNextQ - Q[comp_type][a][s]\n",
    "            # update Q-value\n",
    "            Q[comp_type][a][s] += alpha * TD_error\n",
    "\n",
    "            # update max TD error\n",
    "            if abs(alpha * TD_error) > max_TD_error:\n",
    "                max_TD_error = abs(alpha * TD_error)\n",
    "            \n",
    "            #* S <- S'\n",
    "            s = s_prime\n",
    "            comp_type = comp_type_prime\n",
    "        \n",
    "        TD_errors.append(max_TD_error)\n",
    "        \n",
    "        # Early stopping based on stable policy\n",
    "        if patience is not None:\n",
    "            current_policy = tuple(np.argmax(Q[comp], axis=0) for comp in range(len(Q)))\n",
    "            for k, policy in enumerate(current_policy):\n",
    "                policy[xi[k]] = 1  # Force maintenance at the threshold\n",
    "            if prev_policy is not None and all(np.array_equal(cp, pp) for cp, pp in zip(current_policy, prev_policy)):\n",
    "                stable_count += 1\n",
    "                if stable_count >= patience:\n",
    "                    print(f\"Stopped early at episode {i+1} — policy stable for {patience} episodes.\")\n",
    "                    break\n",
    "            else:\n",
    "                stable_count = 0\n",
    "                prev_policy = current_policy\n",
    "        \n",
    "        # Early stopping based on TD convergence\n",
    "        if(max_TD_error) < delta:\n",
    "            return TD_errors, Q\n",
    "    \n",
    "    return TD_errors, Q"
   ]
  },
  {
   "cell_type": "code",
   "execution_count": 32,
   "metadata": {},
   "outputs": [
    {
     "name": "stderr",
     "output_type": "stream",
     "text": [
      "Episodes:   0%|          | 79/100000 [00:03<1:06:13, 25.15it/s]\n"
     ]
    },
    {
     "data": {
      "image/png": "[encoded data removed]",
      "text/plain": [
       "<Figure size 1200x700 with 1 Axes>"
      ]
     },
     "metadata": {},
     "output_type": "display_data"
    },
    {
     "name": "stdout",
     "output_type": "stream",
     "text": [
      "Optimal Policy (0 = Do nothing, 1 = Maintenance):\n",
      "Component Type 1 (Failure Threshold = 15):\n",
      "[0 0 0 0 0 0 0 0 0 0 0 0 0 0 0 1]\n",
      "Component Type 2 (Failure Threshold = 30):\n",
      "[0 0 0 0 0 0 0 0 0 0 0 0 0 0 0 0 0 0 0 0 0 0 0 0 0 0 0 0 0 0 1]\n",
      "Component Type 3 (Failure Threshold = 50):\n",
      "[0 0 0 0 0 0 0 0 0 0 0 0 0 0 0 0 0 0 0 0 0 0 0 0 0 0 0 0 0 0 0 0 0 0 0 0 0\n",
      " 0 0 0 0 0 0 0 0 0 0 0 0 0 1]\n",
      "\n",
      "Q-values for each Component Type:\n",
      "Component Type 1 (Failure Threshold = 15):\n",
      "[[ 0.          0.          0.          0.          0.          0.\n",
      "   0.          0.          0.          0.          0.          0.\n",
      "   0.          0.          0.          0.        ]\n",
      " [-0.0657429   0.          0.         -0.0372237  -0.04689276 -0.12706702\n",
      "  -0.02870457 -0.04716466 -0.02836802 -0.02924132  0.         -0.02851359\n",
      "  -0.03836075 -0.0188197  -0.0193365  -4.99999772]]\n",
      "Component Type 2 (Failure Threshold = 30):\n",
      "[[ 0.          0.          0.          0.          0.          0.\n",
      "   0.          0.          0.          0.          0.          0.\n",
      "   0.          0.          0.          0.          0.          0.\n",
      "   0.          0.          0.          0.          0.          0.\n",
      "   0.          0.          0.          0.          0.          0.\n",
      "   0.        ]\n",
      " [-0.11861399  0.         -0.00993049 -0.0380203  -0.06556256 -0.00933707\n",
      "  -0.02832788 -0.00978474 -0.01898546 -0.03833369 -0.02886434 -0.05595806\n",
      "   0.         -0.03811266 -0.03880848 -0.00998004 -0.02844933 -0.02800152\n",
      "  -0.02881602 -0.05606422 -0.01903885 -0.02882005 -0.01909363 -0.01891436\n",
      "  -0.0380029  -0.05604303 -0.03789849 -0.03757188 -0.02880038  0.\n",
      "  -4.99999508]]\n",
      "Component Type 3 (Failure Threshold = 50):\n",
      "[[ 0.          0.          0.          0.          0.          0.\n",
      "   0.          0.          0.          0.          0.          0.\n",
      "   0.          0.          0.          0.          0.          0.\n",
      "   0.          0.          0.          0.          0.          0.\n",
      "   0.          0.          0.          0.          0.          0.\n",
      "   0.          0.          0.          0.          0.          0.\n",
      "   0.          0.          0.          0.          0.          0.\n",
      "   0.          0.          0.          0.          0.          0.\n",
      "   0.          0.          0.        ]\n",
      " [-0.11855174 -0.028709   -0.00999001 -0.00992063 -0.03777025 -0.04697453\n",
      "  -0.07294887 -0.00927644 -0.01947912 -0.05619569 -0.04779952 -0.01939936\n",
      "  -0.05582142 -0.03776856 -0.02879511 -0.03698308 -0.00969932 -0.06533082\n",
      "  -0.02847803 -0.01854397 -0.02950677 -0.06629215 -0.04691359 -0.01883018\n",
      "  -0.03810383 -0.04687984  0.         -0.02822218 -0.02873556  0.\n",
      "  -0.01905284 -0.0293625  -0.01901104 -0.01885895 -0.01882406 -0.01904042\n",
      "  -0.00931099 -0.03847659 -0.04725036 -0.00972763 -0.03750117 -0.02884928\n",
      "  -0.04795993 -0.00932836 -0.04752684 -0.01938911 -0.0469689  -0.06565625\n",
      "  -0.03815904 -0.03775518 -4.99999316]]\n"
     ]
    }
   ],
   "source": [
    "nEpisodes = pow(10, 5)\n",
    "lengthEpisode = pow(10, 3)\n",
    "epsilon = 0.01\n",
    "\n",
    "alpha = 0.01\n",
    "td_errors, Q = run_simulation(nEpisodes, lengthEpisode, epsilon, alpha, decay_rate=20000, patience=200)\n",
    "final_results = {f\"$\\\\epsilon$={epsilon}, $\\\\alpha$={alpha}\": {\"td_errors\": td_errors}}\n",
    "plot_td_errors(final_results, title=\"Final TD Error Convergence\")\n",
    "print_policies_and_q_values(Q)"
   ]
  }
 ],
 "metadata": {
  "kernelspec": {
   "display_name": "wbase",
   "language": "python",
   "name": "python3"
  },
  "language_info": {
   "codemirror_mode": {
    "name": "ipython",
    "version": 3
   },
   "file_extension": ".py",
   "mimetype": "text/x-python",
   "name": "python",
   "nbconvert_exporter": "python",
   "pygments_lexer": "ipython3",
   "version": "3.13.2"
  }
 },
 "nbformat": 4,
 "nbformat_minor": 2
}
