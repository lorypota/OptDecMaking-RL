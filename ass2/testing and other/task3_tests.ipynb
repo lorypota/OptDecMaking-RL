{
 "cells": [
  {
   "cell_type": "code",
   "execution_count": null,
   "metadata": {},
   "outputs": [],
   "source": []
  },
  {
   "cell_type": "code",
   "execution_count": 2,
   "metadata": {},
   "outputs": [],
   "source": [
    "import numpy as np\n",
    "import math\n",
    "import matplotlib.pyplot as plt\n",
    "import scipy.stats as stats\n",
    "from tqdm import tqdm "
   ]
  },
  {
   "cell_type": "code",
   "execution_count": 3,
   "metadata": {},
   "outputs": [],
   "source": [
    "# Define MDP parameters\n",
    "actions = (0, 1)  # (0=do nothing, 1=maintenance)\n",
    "xi = (15, 30, 50) # break threshold per type of component\n",
    "S = [list(range(x + 1)) for x in xi]\n",
    "C = tuple([[0, 1]] * x + [[math.inf, 5]] for x in xi)\n",
    "gamma = 0.9  # Discount factor"
   ]
  },
  {
   "cell_type": "code",
   "execution_count": null,
   "metadata": {},
   "outputs": [],
   "source": [
    "w = [np.zeros((x + 1) * 2) for x in xi]"
   ]
  },
  {
   "cell_type": "code",
   "execution_count": null,
   "metadata": {},
   "outputs": [],
   "source": [
    "# Create feature vector \\phi(s,a) for a given comp_type, state s, and action a\n",
    "def feature_vector(comp_type, s, a):\n",
    "    length = (xi[comp_type] + 1) * 2  # number of (state, action) combos\n",
    "    phi = np.zeros(length)\n",
    "    index = s * 2 + a # \n",
    "    phi[index] = 1.0\n",
    "    return phi"
   ]
  },
  {
   "cell_type": "code",
   "execution_count": null,
   "metadata": {},
   "outputs": [],
   "source": []
  }
 ],
 "metadata": {
  "kernelspec": {
   "display_name": "wbase",
   "language": "python",
   "name": "python3"
  },
  "language_info": {
   "codemirror_mode": {
    "name": "ipython",
    "version": 3
   },
   "file_extension": ".py",
   "mimetype": "text/x-python",
   "name": "python",
   "nbconvert_exporter": "python",
   "pygments_lexer": "ipython3",
   "version": "3.13.2"
  }
 },
 "nbformat": 4,
 "nbformat_minor": 2
}
